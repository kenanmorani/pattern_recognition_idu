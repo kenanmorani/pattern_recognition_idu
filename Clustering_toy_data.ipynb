{
  "nbformat": 4,
  "nbformat_minor": 0,
  "metadata": {
    "kernelspec": {
      "display_name": "Python 3",
      "language": "python",
      "name": "python3"
    },
    "language_info": {
      "codemirror_mode": {
        "name": "ipython",
        "version": 3
      },
      "file_extension": ".py",
      "mimetype": "text/x-python",
      "name": "python",
      "nbconvert_exporter": "python",
      "pygments_lexer": "ipython3",
      "version": "3.8.5"
    },
    "colab": {
      "name": "Clustering_toy_data.ipynb",
      "provenance": [],
      "toc_visible": true,
      "include_colab_link": true
    }
  },
  "cells": [
    {
      "cell_type": "markdown",
      "metadata": {
        "id": "view-in-github",
        "colab_type": "text"
      },
      "source": [
        "<a href=\"https://colab.research.google.com/github/kenanmorani/pattern_recognition_idu/blob/main/Clustering_toy_data.ipynb\" target=\"_parent\"><img src=\"https://colab.research.google.com/assets/colab-badge.svg\" alt=\"Open In Colab\"/></a>"
      ]
    },
    {
      "cell_type": "markdown",
      "metadata": {
        "id": "A6_MrlkRpiwr"
      },
      "source": [
        "* The following code includes clustering algorithms, which should work for different cluster numbers (k), for 2-dimensional data in the clustering_toy_data.csv.\n",
        "* The verifying dataset 'clustering_toy_data.csv' is cloned from github.\n",
        "* The code includes comments on the results."
      ]
    },
    {
      "cell_type": "code",
      "metadata": {
        "id": "ERk7YAL2URs9"
      },
      "source": [
        "import numpy as np \n",
        "import pandas as pd \n",
        "from scipy.cluster.hierarchy import dendrogram, linkage\n",
        "from scipy.spatial.distance import cdist\n",
        "from matplotlib import pyplot as plt\n",
        "from scipy.spatial import distance\n",
        "import math\n",
        "%matplotlib inline\n",
        "np.set_printoptions(precision=5, suppress=True)  "
      ],
      "execution_count": 27,
      "outputs": []
    },
    {
      "cell_type": "code",
      "metadata": {
        "colab": {
          "base_uri": "https://localhost:8080/"
        },
        "id": "1jOzVoRicJiK",
        "outputId": "6c86e620-272d-4232-d894-ad86fdf2f9a4"
      },
      "source": [
        "!git clone https://github.com/kenanmorani/pattern_recognition_idu"
      ],
      "execution_count": 28,
      "outputs": [
        {
          "output_type": "stream",
          "text": [
            "fatal: destination path 'pattern_recognition_idu' already exists and is not an empty directory.\n"
          ],
          "name": "stdout"
        }
      ]
    },
    {
      "cell_type": "code",
      "metadata": {
        "id": "BZiTjD00cE67"
      },
      "source": [
        "# Reading the dataset \n",
        "df = pd.read_csv('/content/pattern_recognition_idu/data/clustering_toy_data.csv')"
      ],
      "execution_count": 29,
      "outputs": []
    },
    {
      "cell_type": "code",
      "metadata": {
        "colab": {
          "base_uri": "https://localhost:8080/",
          "height": 204
        },
        "id": "Yxz0aD1Kck0T",
        "outputId": "279080d0-23f6-48b0-d291-6440ee368c80"
      },
      "source": [
        "# Exploring the dataset\n",
        "df.head()"
      ],
      "execution_count": 30,
      "outputs": [
        {
          "output_type": "execute_result",
          "data": {
            "text/html": [
              "<div>\n",
              "<style scoped>\n",
              "    .dataframe tbody tr th:only-of-type {\n",
              "        vertical-align: middle;\n",
              "    }\n",
              "\n",
              "    .dataframe tbody tr th {\n",
              "        vertical-align: top;\n",
              "    }\n",
              "\n",
              "    .dataframe thead th {\n",
              "        text-align: right;\n",
              "    }\n",
              "</style>\n",
              "<table border=\"1\" class=\"dataframe\">\n",
              "  <thead>\n",
              "    <tr style=\"text-align: right;\">\n",
              "      <th></th>\n",
              "      <th>x</th>\n",
              "      <th>y</th>\n",
              "    </tr>\n",
              "  </thead>\n",
              "  <tbody>\n",
              "    <tr>\n",
              "      <th>0</th>\n",
              "      <td>-0.200303</td>\n",
              "      <td>0.510281</td>\n",
              "    </tr>\n",
              "    <tr>\n",
              "      <th>1</th>\n",
              "      <td>-0.326642</td>\n",
              "      <td>-0.922599</td>\n",
              "    </tr>\n",
              "    <tr>\n",
              "      <th>2</th>\n",
              "      <td>-0.020885</td>\n",
              "      <td>-1.822650</td>\n",
              "    </tr>\n",
              "    <tr>\n",
              "      <th>3</th>\n",
              "      <td>-0.796312</td>\n",
              "      <td>0.618746</td>\n",
              "    </tr>\n",
              "    <tr>\n",
              "      <th>4</th>\n",
              "      <td>-1.290430</td>\n",
              "      <td>-1.055020</td>\n",
              "    </tr>\n",
              "  </tbody>\n",
              "</table>\n",
              "</div>"
            ],
            "text/plain": [
              "          x         y\n",
              "0 -0.200303  0.510281\n",
              "1 -0.326642 -0.922599\n",
              "2 -0.020885 -1.822650\n",
              "3 -0.796312  0.618746\n",
              "4 -1.290430 -1.055020"
            ]
          },
          "metadata": {
            "tags": []
          },
          "execution_count": 30
        }
      ]
    },
    {
      "cell_type": "code",
      "metadata": {
        "colab": {
          "base_uri": "https://localhost:8080/"
        },
        "id": "kdY7GxWKcvSX",
        "outputId": "9ded72aa-6eb0-4349-c9a3-f506f1880ddf"
      },
      "source": [
        "df.info()"
      ],
      "execution_count": 31,
      "outputs": [
        {
          "output_type": "stream",
          "text": [
            "<class 'pandas.core.frame.DataFrame'>\n",
            "RangeIndex: 100 entries, 0 to 99\n",
            "Data columns (total 2 columns):\n",
            " #   Column  Non-Null Count  Dtype  \n",
            "---  ------  --------------  -----  \n",
            " 0   x       100 non-null    float64\n",
            " 1   y       100 non-null    float64\n",
            "dtypes: float64(2)\n",
            "memory usage: 1.7 KB\n"
          ],
          "name": "stdout"
        }
      ]
    },
    {
      "cell_type": "markdown",
      "metadata": {
        "id": "R8rj0kVdpT1Y"
      },
      "source": [
        "### K-means Clustering\n"
      ]
    },
    {
      "cell_type": "code",
      "metadata": {
        "id": "BJ5os1uPpSY1"
      },
      "source": [
        "def avg(cluster):\n",
        "    if len(cluster) < 0:\n",
        "        return\n",
        "    current_sum = cluster[0]\n",
        "    for i in range(1,len(cluster)):\n",
        "        current_sum = np.add(current_sum , cluster[i])\n",
        "    # Dividing by total samples\n",
        "    for k in range(len(current_sum)):\n",
        "        current_sum[k]  = current_sum[k]/len(cluster)\n",
        "    return current_sum"
      ],
      "execution_count": 32,
      "outputs": []
    },
    {
      "cell_type": "code",
      "metadata": {
        "id": "gRd-RSwQprks"
      },
      "source": [
        "def mean_distance(clusters ,cluster_num):\n",
        "    print('first cluster | ','second cluster | ', 'distance')\n",
        "    while len(clusters) is not cluster_num:\n",
        "        # Clustering           (\n",
        "        closest_distance=clust_1=clust_2 = math.inf\n",
        "\n",
        "        for cluster_id, cluster in enumerate(clusters[:len(clusters)]): \n",
        "            cluster_avg = avg(cluster)\n",
        "            for cluster2_id, cluster2 in enumerate(clusters[(cluster_id+1):]): \n",
        "                cluster2_avg = avg (cluster2)\n",
        "                if distance.euclidean(cluster_avg,cluster2_avg) < closest_distance:\n",
        "                    closest_distance = distance.euclidean(cluster_avg,cluster2_avg)\n",
        "                    clust_1 = cluster_id\n",
        "                    clust_2 = cluster2_id+cluster_id+1\n",
        "        print(clust_1,' | ',clust_2, ' | ',closest_distance)\n",
        "        clusters[clust_1].extend(clusters[clust_2]) \n",
        "        clusters.pop(clust_2) \n",
        "    return(clusters)"
      ],
      "execution_count": 33,
      "outputs": []
    },
    {
      "cell_type": "code",
      "metadata": {
        "id": "iZTroQuLps_9"
      },
      "source": [
        "def hierarchical(data, cluster_num, metric = 'mean'):\n",
        "    # At first each point is considered a cluster\n",
        "    init_clusters=[]\n",
        "    for index, row in data.iterrows():\n",
        "        init_clusters.append([[row['x'], row['y']]])\n",
        "    if metric is 'mean':\n",
        "        return mean_distance(init_clusters, cluster_num)"
      ],
      "execution_count": 34,
      "outputs": []
    },
    {
      "cell_type": "code",
      "metadata": {
        "colab": {
          "base_uri": "https://localhost:8080/",
          "height": 1000
        },
        "id": "SfvisvT14x6-",
        "outputId": "c0f4a13b-c8d2-46d9-88c4-10f53b4394bd"
      },
      "source": [
        "#For k=3\n",
        "clusters = hierarchical(df,3)\n",
        "colors = ['red', 'green', 'purple']\n",
        "for cluster_index, cluster in enumerate(clusters):\n",
        "    for point_index, point in enumerate(cluster):\n",
        "        plt.plot([point[0]], [point[1]], marker='o', markersize=3, color=colors[cluster_index])"
      ],
      "execution_count": 35,
      "outputs": [
        {
          "output_type": "stream",
          "text": [
            "first cluster |  second cluster |  distance\n",
            "52  |  82  |  0.020905188351220523\n",
            "55  |  73  |  0.05421475813835223\n",
            "77  |  93  |  0.059082417858446014\n",
            "57  |  94  |  0.06269623274168862\n",
            "59  |  72  |  0.0729949621549323\n",
            "54  |  65  |  0.08752271076697725\n",
            "76  |  79  |  0.08889486486856268\n",
            "76  |  92  |  0.08436373065482534\n",
            "60  |  78  |  0.10694767692661643\n",
            "56  |  58  |  0.11503641597337791\n",
            "58  |  85  |  0.11842380007836234\n",
            "80  |  85  |  0.12028533160780673\n",
            "26  |  47  |  0.12849902295348342\n",
            "36  |  46  |  0.1463166747161786\n",
            "73  |  82  |  0.1476916935902478\n",
            "63  |  75  |  0.1499040509792851\n",
            "61  |  70  |  0.15135927358440904\n",
            "60  |  82  |  0.1541678890041632\n",
            "69  |  71  |  0.16187268183668346\n",
            "56  |  69  |  0.15681864996797307\n",
            "49  |  78  |  0.16309363322950393\n",
            "50  |  51  |  0.17076569656989113\n",
            "32  |  36  |  0.1718011842945215\n",
            "40  |  41  |  0.17227460304989806\n",
            "52  |  63  |  0.17264172438897785\n",
            "56  |  70  |  0.1823624836692019\n",
            "53  |  54  |  0.19703632527475184\n",
            "1  |  12  |  0.2024765654020238\n",
            "37  |  44  |  0.20710485580980503\n",
            "54  |  58  |  0.2131376627909765\n",
            "60  |  66  |  0.22211885309446458\n",
            "34  |  38  |  0.22822771632735545\n",
            "5  |  23  |  0.23651786118811416\n",
            "33  |  41  |  0.23960127592523345\n",
            "20  |  21  |  0.24807001877695742\n",
            "55  |  62  |  0.25416733798818425\n",
            "23  |  29  |  0.26325725654765847\n",
            "40  |  52  |  0.27594967408025667\n",
            "41  |  45  |  0.28410199508470785\n",
            "13  |  16  |  0.29375502486543104\n",
            "48  |  53  |  0.30709771755094495\n",
            "29  |  33  |  0.3333237186655034\n",
            "12  |  16  |  0.33541749138200894\n",
            "39  |  56  |  0.3377402351290113\n",
            "20  |  27  |  0.343067019691488\n",
            "42  |  50  |  0.3564418413289882\n",
            "3  |  5  |  0.3707153352523334\n",
            "46  |  52  |  0.3935002527318122\n",
            "36  |  46  |  0.3990316562560477\n",
            "40  |  43  |  0.40173167320865766\n",
            "22  |  23  |  0.4025850335022401\n",
            "1  |  14  |  0.4034988553010405\n",
            "24  |  31  |  0.40812821821089484\n",
            "19  |  25  |  0.4389977130793377\n",
            "13  |  14  |  0.46088226225430934\n",
            "34  |  36  |  0.4781250058405233\n",
            "24  |  27  |  0.4789662973529557\n",
            "29  |  31  |  0.49806731786825\n",
            "12  |  13  |  0.5019841298038664\n",
            "4  |  15  |  0.5381648417176657\n",
            "6  |  14  |  0.5493206959072269\n",
            "16  |  20  |  0.5736350356770841\n",
            "21  |  22  |  0.581670969508536\n",
            "5  |  13  |  0.584217498026206\n",
            "25  |  28  |  0.5851734398259867\n",
            "22  |  33  |  0.6076176929031938\n",
            "13  |  19  |  0.6265095499671174\n",
            "1  |  6  |  0.6477536899847726\n",
            "24  |  28  |  0.6643377623085124\n",
            "6  |  8  |  0.6793916789466589\n",
            "24  |  28  |  0.7012063305811688\n",
            "15  |  16  |  0.7151080182741626\n",
            "24  |  26  |  0.7656396140355826\n",
            "20  |  23  |  0.7688195817617729\n",
            "19  |  20  |  0.6956371679376774\n",
            "0  |  10  |  0.7992569158923533\n",
            "1  |  4  |  0.8267108284427345\n",
            "10  |  11  |  0.8739645038572792\n",
            "2  |  8  |  0.8977451969340802\n",
            "15  |  16  |  0.9311057725051273\n",
            "3  |  4  |  0.978113464719201\n",
            "15  |  16  |  0.9900004401670303\n",
            "7  |  10  |  1.0150364125980902\n",
            "4  |  6  |  1.065191939306851\n",
            "13  |  14  |  1.1204407967505285\n",
            "7  |  9  |  1.1314744288347482\n",
            "0  |  1  |  1.1687427942718447\n",
            "0  |  1  |  1.1559451774432177\n",
            "9  |  10  |  1.2267993051862875\n",
            "1  |  3  |  1.360064047738047\n",
            "3  |  4  |  1.3623737999729693\n",
            "3  |  4  |  1.2500893376428233\n",
            "0  |  1  |  1.7214347722216818\n",
            "4  |  5  |  1.771553767218754\n",
            "4  |  5  |  1.8491800580140254\n",
            "0  |  1  |  2.140031836129946\n",
            "1  |  2  |  2.707050335404141\n"
          ],
          "name": "stdout"
        },
        {
          "output_type": "display_data",
          "data": {
            "image/png": "[encoded data removed]",
            "text/plain": [
              "<Figure size 432x288 with 1 Axes>"
            ]
          },
          "metadata": {
            "tags": [],
            "needs_background": "light"
          }
        }
      ]
    },
    {
      "cell_type": "markdown",
      "metadata": {
        "id": "ozV_cspp6z9E"
      },
      "source": [
        "* For k=3 the colored clusters show how the k-means algorithms grouped the scattered points."
      ]
    },
    {
      "cell_type": "code",
      "metadata": {
        "colab": {
          "base_uri": "https://localhost:8080/",
          "height": 1000
        },
        "id": "HXnw0oJXpxnU",
        "outputId": "3bb15338-c32a-4df8-aee2-82611d9cb5eb"
      },
      "source": [
        "#For k=4\n",
        "clusters = hierarchical(df,4)\n",
        "colors = ['red', 'green', 'purple', 'teal']\n",
        "for cluster_index, cluster in enumerate(clusters):\n",
        "    for point_index, point in enumerate(cluster):\n",
        "        plt.plot([point[0]], [point[1]], marker='o', markersize=3, color=colors[cluster_index])"
      ],
      "execution_count": 37,
      "outputs": [
        {
          "output_type": "stream",
          "text": [
            "first cluster |  second cluster |  distance\n",
            "52  |  82  |  0.020905188351220523\n",
            "55  |  73  |  0.05421475813835223\n",
            "77  |  93  |  0.059082417858446014\n",
            "57  |  94  |  0.06269623274168862\n",
            "59  |  72  |  0.0729949621549323\n",
            "54  |  65  |  0.08752271076697725\n",
            "76  |  79  |  0.08889486486856268\n",
            "76  |  92  |  0.08436373065482534\n",
            "60  |  78  |  0.10694767692661643\n",
            "56  |  58  |  0.11503641597337791\n",
            "58  |  85  |  0.11842380007836234\n",
            "80  |  85  |  0.12028533160780673\n",
            "26  |  47  |  0.12849902295348342\n",
            "36  |  46  |  0.1463166747161786\n",
            "73  |  82  |  0.1476916935902478\n",
            "63  |  75  |  0.1499040509792851\n",
            "61  |  70  |  0.15135927358440904\n",
            "60  |  82  |  0.1541678890041632\n",
            "69  |  71  |  0.16187268183668346\n",
            "56  |  69  |  0.15681864996797307\n",
            "49  |  78  |  0.16309363322950393\n",
            "50  |  51  |  0.17076569656989113\n",
            "32  |  36  |  0.1718011842945215\n",
            "40  |  41  |  0.17227460304989806\n",
            "52  |  63  |  0.17264172438897785\n",
            "56  |  70  |  0.1823624836692019\n",
            "53  |  54  |  0.19703632527475184\n",
            "1  |  12  |  0.2024765654020238\n",
            "37  |  44  |  0.20710485580980503\n",
            "54  |  58  |  0.2131376627909765\n",
            "60  |  66  |  0.22211885309446458\n",
            "34  |  38  |  0.22822771632735545\n",
            "5  |  23  |  0.23651786118811416\n",
            "33  |  41  |  0.23960127592523345\n",
            "20  |  21  |  0.24807001877695742\n",
            "55  |  62  |  0.25416733798818425\n",
            "23  |  29  |  0.26325725654765847\n",
            "40  |  52  |  0.27594967408025667\n",
            "41  |  45  |  0.28410199508470785\n",
            "13  |  16  |  0.29375502486543104\n",
            "48  |  53  |  0.30709771755094495\n",
            "29  |  33  |  0.3333237186655034\n",
            "12  |  16  |  0.33541749138200894\n",
            "39  |  56  |  0.3377402351290113\n",
            "20  |  27  |  0.343067019691488\n",
            "42  |  50  |  0.3564418413289882\n",
            "3  |  5  |  0.3707153352523334\n",
            "46  |  52  |  0.3935002527318122\n",
            "36  |  46  |  0.3990316562560477\n",
            "40  |  43  |  0.40173167320865766\n",
            "22  |  23  |  0.4025850335022401\n",
            "1  |  14  |  0.4034988553010405\n",
            "24  |  31  |  0.40812821821089484\n",
            "19  |  25  |  0.4389977130793377\n",
            "13  |  14  |  0.46088226225430934\n",
            "34  |  36  |  0.4781250058405233\n",
            "24  |  27  |  0.4789662973529557\n",
            "29  |  31  |  0.49806731786825\n",
            "12  |  13  |  0.5019841298038664\n",
            "4  |  15  |  0.5381648417176657\n",
            "6  |  14  |  0.5493206959072269\n",
            "16  |  20  |  0.5736350356770841\n",
            "21  |  22  |  0.581670969508536\n",
            "5  |  13  |  0.584217498026206\n",
            "25  |  28  |  0.5851734398259867\n",
            "22  |  33  |  0.6076176929031938\n",
            "13  |  19  |  0.6265095499671174\n",
            "1  |  6  |  0.6477536899847726\n",
            "24  |  28  |  0.6643377623085124\n",
            "6  |  8  |  0.6793916789466589\n",
            "24  |  28  |  0.7012063305811688\n",
            "15  |  16  |  0.7151080182741626\n",
            "24  |  26  |  0.7656396140355826\n",
            "20  |  23  |  0.7688195817617729\n",
            "19  |  20  |  0.6956371679376774\n",
            "0  |  10  |  0.7992569158923533\n",
            "1  |  4  |  0.8267108284427345\n",
            "10  |  11  |  0.8739645038572792\n",
            "2  |  8  |  0.8977451969340802\n",
            "15  |  16  |  0.9311057725051273\n",
            "3  |  4  |  0.978113464719201\n",
            "15  |  16  |  0.9900004401670303\n",
            "7  |  10  |  1.0150364125980902\n",
            "4  |  6  |  1.065191939306851\n",
            "13  |  14  |  1.1204407967505285\n",
            "7  |  9  |  1.1314744288347482\n",
            "0  |  1  |  1.1687427942718447\n",
            "0  |  1  |  1.1559451774432177\n",
            "9  |  10  |  1.2267993051862875\n",
            "1  |  3  |  1.360064047738047\n",
            "3  |  4  |  1.3623737999729693\n",
            "3  |  4  |  1.2500893376428233\n",
            "0  |  1  |  1.7214347722216818\n",
            "4  |  5  |  1.771553767218754\n",
            "4  |  5  |  1.8491800580140254\n",
            "0  |  1  |  2.140031836129946\n"
          ],
          "name": "stdout"
        },
        {
          "output_type": "display_data",
          "data": {
            "image/png": "[encoded data removed]",
            "text/plain": [
              "<Figure size 432x288 with 1 Axes>"
            ]
          },
          "metadata": {
            "tags": [],
            "needs_background": "light"
          }
        }
      ]
    },
    {
      "cell_type": "markdown",
      "metadata": {
        "id": "sy6mefM-7BMm"
      },
      "source": [
        "* For k=4, the colored clusters show grouping of four clusters. The purple cluster was taken to be only one point as in the scattered plot."
      ]
    },
    {
      "cell_type": "markdown",
      "metadata": {
        "id": "ArBacj7T11kj"
      },
      "source": [
        "* K means is an iterative clustering algorithm that aims to find local maxima in each iteration.\n",
        "* In K Means clustering, since we start with random choice of clusters, the results produced by running the algorithm multiple times might differ.\n",
        "* The results show tighter clusters comparing to hierarical methods and K-means clustering works better with big datasets.\n",
        "* Hierarchical clustering can’t handle big data well but K Means clustering can. This is because the time complexity of K Means is linear i.e. O(n) while that of hierarchical clustering is quadratic i.e. O(n2).\n",
        "* K Means clustering requires prior knowledge of K i.e. no. of clusters you want to divide your data into. In our case the number was 3 and 4."
      ]
    },
    {
      "cell_type": "markdown",
      "metadata": {
        "id": "oojV9wotURtB"
      },
      "source": [
        "### Single Linkage Algorithm"
      ]
    },
    {
      "cell_type": "markdown",
      "metadata": {
        "id": "l7yD-1Jqr8Vb"
      },
      "source": [
        "The single linkage algorithms measures the shortest link."
      ]
    },
    {
      "cell_type": "code",
      "metadata": {
        "id": "sdXUZ45oURtB"
      },
      "source": [
        "def single_distance(clusters ,cluster_num):\n",
        "    print('first cluster | ','second cluster | ', 'distance')\n",
        "    while len(clusters) is not cluster_num:\n",
        "        # Clustering           (\n",
        "        closest_distance=clust_1=clust_2 = math.inf\n",
        "        for cluster_id, cluster in enumerate(clusters[:len(clusters)]): \n",
        "            # for every point in every cluster\n",
        "            for point_id,point in enumerate(cluster): \n",
        "                # Comparing with clusters after the current one\n",
        "                for cluster2_id, cluster2 in enumerate(clusters[(cluster_id+1):]): \n",
        "                    # Going through each point in this prospective cluster\n",
        "                    for point2_id, point2 in enumerate(cluster2):\n",
        "# If the new distance is prefered to the previous one, then we keep it\n",
        "                        if distance.euclidean(point,point2) < closest_distance: \n",
        "                            # Only used for comparing \n",
        "                            closest_distance = distance.euclidean(point,point2)\n",
        "                # At the end of the process, this is to tell with clusters will be merged\n",
        "                            clust_1 = cluster_id\n",
        "                # This cluster will be deleted in the end\n",
        "                            clust_2 = cluster2_id+cluster_id+1\n",
        "               # extending by appending the contents to the list without flattening it out\n",
        "        print(clust_1,' | ',clust_2, ' | ',closest_distance)\n",
        "        clusters[clust_1].extend(clusters[clust_2]) \n",
        "        # don't need this index anymore, and we have just clustered once more\n",
        "        clusters.pop(clust_2) \n",
        "    return(clusters)"
      ],
      "execution_count": 38,
      "outputs": []
    },
    {
      "cell_type": "code",
      "metadata": {
        "id": "vaMWtU7ulOOx"
      },
      "source": [
        "# Hierarchical clustering\n",
        "def hierarchical(data, cluster_num, metric = 'single'):\n",
        "    # initialization of clusters at first (every point is a cluster)\n",
        "    init_clusters=[]\n",
        "    for index, row in data.iterrows():\n",
        "        init_clusters.append([[row['x'], row['y']]])\n",
        "    if metric is 'single':\n",
        "        return single_distance(init_clusters, cluster_num)"
      ],
      "execution_count": 39,
      "outputs": []
    },
    {
      "cell_type": "code",
      "metadata": {
        "colab": {
          "base_uri": "https://localhost:8080/",
          "height": 1000
        },
        "id": "bA_cHjaKo_tT",
        "outputId": "8bf42420-b310-4019-da87-50e1af28e3db"
      },
      "source": [
        "# For k=3\n",
        "clusters = hierarchical(df,3)\n",
        "colors = ['blue', 'red', 'purple']\n",
        "for cluster_index, cluster in enumerate(clusters):\n",
        "    for point_index, point in enumerate(cluster):\n",
        "        plt.plot([point[0]], [point[1]], marker='o', markersize=3, color=colors[cluster_index])"
      ],
      "execution_count": 40,
      "outputs": [
        {
          "output_type": "stream",
          "text": [
            "first cluster |  second cluster |  distance\n",
            "52  |  82  |  0.020905188351220523\n",
            "55  |  73  |  0.05421475813835223\n",
            "77  |  93  |  0.059082417858446014\n",
            "57  |  94  |  0.06269623274168862\n",
            "59  |  72  |  0.0729949621549323\n",
            "59  |  76  |  0.08613443678343743\n",
            "54  |  65  |  0.08752271076697725\n",
            "75  |  78  |  0.08889486486856268\n",
            "75  |  91  |  0.09059333860720648\n",
            "59  |  86  |  0.0907784082257447\n",
            "60  |  77  |  0.10694767692661643\n",
            "56  |  58  |  0.11503641597337791\n",
            "79  |  84  |  0.12028533160780673\n",
            "58  |  59  |  0.1221576948047074\n",
            "58  |  70  |  0.12478038026869437\n",
            "72  |  81  |  0.12671008168255596\n",
            "60  |  77  |  0.1270629312584906\n",
            "26  |  47  |  0.12849902295348342\n",
            "36  |  46  |  0.1463166747161786\n",
            "62  |  72  |  0.1499040509792851\n",
            "60  |  68  |  0.15135927358440904\n",
            "59  |  78  |  0.1541678890041632\n",
            "32  |  36  |  0.1550140445250043\n",
            "55  |  62  |  0.1566030156159195\n",
            "54  |  63  |  0.1577377855810075\n",
            "49  |  50  |  0.160699322960615\n",
            "48  |  72  |  0.16309363322950393\n",
            "40  |  41  |  0.17227460304989806\n",
            "47  |  59  |  0.18500861871815596\n",
            "26  |  32  |  0.18773031960767558\n",
            "47  |  51  |  0.19191960087494986\n",
            "1  |  12  |  0.2024765654020238\n",
            "36  |  43  |  0.20710485580980503\n",
            "49  |  52  |  0.21331586345136147\n",
            "56  |  62  |  0.22211885309446458\n",
            "33  |  37  |  0.22822771632735545\n",
            "44  |  53  |  0.22936147235313958\n",
            "33  |  41  |  0.2330236788397264\n",
            "5  |  23  |  0.23651786118811416\n",
            "31  |  35  |  0.2372331869701197\n",
            "20  |  21  |  0.24807001877695742\n",
            "23  |  31  |  0.24866799150674748\n",
            "48  |  55  |  0.25416733798818425\n",
            "38  |  43  |  0.2550343349433566\n",
            "45  |  49  |  0.27508199104994147\n",
            "13  |  16  |  0.29375502486543104\n",
            "39  |  53  |  0.2942687764612482\n",
            "46  |  48  |  0.3127939903514772\n",
            "1  |  15  |  0.3215579704283507\n",
            "41  |  45  |  0.3220906223409802\n",
            "1  |  18  |  0.32512177853382884\n",
            "12  |  15  |  0.33541749138200894\n",
            "40  |  47  |  0.3387245808913196\n",
            "18  |  25  |  0.343067019691488\n",
            "34  |  39  |  0.3534976929203357\n",
            "33  |  34  |  0.35668325360184777\n",
            "33  |  34  |  0.3642746371901286\n",
            "19  |  25  |  0.36767210677450074\n",
            "3  |  5  |  0.37418926852596934\n",
            "33  |  34  |  0.37758831337847326\n",
            "31  |  33  |  0.3781349067462559\n",
            "20  |  21  |  0.4025850335022401\n",
            "18  |  19  |  0.40969946948952696\n",
            "18  |  27  |  0.4139043943956139\n",
            "28  |  32  |  0.445607777759769\n",
            "13  |  14  |  0.46088226225430934\n",
            "27  |  28  |  0.4651571788116355\n",
            "21  |  24  |  0.4789662973529557\n",
            "12  |  13  |  0.4869308218745041\n",
            "25  |  26  |  0.4881862792008806\n",
            "21  |  22  |  0.4978664805196272\n",
            "15  |  20  |  0.5109055248282209\n",
            "23  |  25  |  0.532788759641192\n",
            "0  |  12  |  0.5372327001838682\n",
            "4  |  13  |  0.5381648417176657\n",
            "1  |  4  |  0.5410814070257821\n",
            "1  |  5  |  0.5456024991163438\n",
            "0  |  1  |  0.5741993625406511\n",
            "10  |  11  |  0.5746792366181329\n",
            "3  |  9  |  0.584217498026206\n",
            "15  |  16  |  0.5853708008604458\n",
            "0  |  8  |  0.5892975532038122\n",
            "0  |  2  |  0.6057981382490376\n",
            "13  |  15  |  0.6076176929031938\n",
            "7  |  10  |  0.6232665736264059\n",
            "0  |  4  |  0.6737283949901476\n",
            "3  |  4  |  0.6793916789466589\n",
            "5  |  6  |  0.6847532595760317\n",
            "5  |  6  |  0.7151080182741626\n",
            "5  |  6  |  0.7303308661942203\n",
            "0  |  2  |  0.7654280198320413\n",
            "0  |  1  |  0.7856633967304065\n",
            "5  |  6  |  0.8168719814022269\n",
            "0  |  1  |  0.8809683016842094\n",
            "4  |  5  |  0.923104095755186\n",
            "0  |  1  |  0.9796266974672342\n",
            "0  |  1  |  1.4199062380312302\n"
          ],
          "name": "stdout"
        },
        {
          "output_type": "display_data",
          "data": {
            "image/png": "[encoded data removed]",
            "text/plain": [
              "<Figure size 432x288 with 1 Axes>"
            ]
          },
          "metadata": {
            "tags": [],
            "needs_background": "light"
          }
        }
      ]
    },
    {
      "cell_type": "markdown",
      "metadata": {
        "id": "T2V0BDpK31T4"
      },
      "source": [
        "* For k=3 the colored clusters show the results above where only one point was considered a red cluster."
      ]
    },
    {
      "cell_type": "code",
      "metadata": {
        "colab": {
          "base_uri": "https://localhost:8080/",
          "height": 1000
        },
        "id": "6fJDzHwulT98",
        "outputId": "8d54edf0-b42d-4b3b-cabd-1ee0c7cdb029"
      },
      "source": [
        "# For k=4\n",
        "clusters = hierarchical(df,4)\n",
        "colors = ['blue', 'red', 'purple', 'teal']\n",
        "for cluster_index, cluster in enumerate(clusters):\n",
        "    for point_index, point in enumerate(cluster):\n",
        "        plt.plot([point[0]], [point[1]], marker='o', markersize=3, color=colors[cluster_index])"
      ],
      "execution_count": 20,
      "outputs": [
        {
          "output_type": "stream",
          "text": [
            "first cluster |  second cluster |  distance\n",
            "52  |  82  |  0.020905188351220523\n",
            "55  |  73  |  0.05421475813835223\n",
            "77  |  93  |  0.059082417858446014\n",
            "57  |  94  |  0.06269623274168862\n",
            "59  |  72  |  0.0729949621549323\n",
            "59  |  76  |  0.08613443678343743\n",
            "54  |  65  |  0.08752271076697725\n",
            "75  |  78  |  0.08889486486856268\n",
            "75  |  91  |  0.09059333860720648\n",
            "59  |  86  |  0.0907784082257447\n",
            "60  |  77  |  0.10694767692661643\n",
            "56  |  58  |  0.11503641597337791\n",
            "79  |  84  |  0.12028533160780673\n",
            "58  |  59  |  0.1221576948047074\n",
            "58  |  70  |  0.12478038026869437\n",
            "72  |  81  |  0.12671008168255596\n",
            "60  |  77  |  0.1270629312584906\n",
            "26  |  47  |  0.12849902295348342\n",
            "36  |  46  |  0.1463166747161786\n",
            "62  |  72  |  0.1499040509792851\n",
            "60  |  68  |  0.15135927358440904\n",
            "59  |  78  |  0.1541678890041632\n",
            "32  |  36  |  0.1550140445250043\n",
            "55  |  62  |  0.1566030156159195\n",
            "54  |  63  |  0.1577377855810075\n",
            "49  |  50  |  0.160699322960615\n",
            "48  |  72  |  0.16309363322950393\n",
            "40  |  41  |  0.17227460304989806\n",
            "47  |  59  |  0.18500861871815596\n",
            "26  |  32  |  0.18773031960767558\n",
            "47  |  51  |  0.19191960087494986\n",
            "1  |  12  |  0.2024765654020238\n",
            "36  |  43  |  0.20710485580980503\n",
            "49  |  52  |  0.21331586345136147\n",
            "56  |  62  |  0.22211885309446458\n",
            "33  |  37  |  0.22822771632735545\n",
            "44  |  53  |  0.22936147235313958\n",
            "33  |  41  |  0.2330236788397264\n",
            "5  |  23  |  0.23651786118811416\n",
            "31  |  35  |  0.2372331869701197\n",
            "20  |  21  |  0.24807001877695742\n",
            "23  |  31  |  0.24866799150674748\n",
            "48  |  55  |  0.25416733798818425\n",
            "38  |  43  |  0.2550343349433566\n",
            "45  |  49  |  0.27508199104994147\n",
            "13  |  16  |  0.29375502486543104\n",
            "39  |  53  |  0.2942687764612482\n",
            "46  |  48  |  0.3127939903514772\n",
            "1  |  15  |  0.3215579704283507\n",
            "41  |  45  |  0.3220906223409802\n",
            "1  |  18  |  0.32512177853382884\n",
            "12  |  15  |  0.33541749138200894\n",
            "40  |  47  |  0.3387245808913196\n",
            "18  |  25  |  0.343067019691488\n",
            "34  |  39  |  0.3534976929203357\n",
            "33  |  34  |  0.35668325360184777\n",
            "33  |  34  |  0.3642746371901286\n",
            "19  |  25  |  0.36767210677450074\n",
            "3  |  5  |  0.37418926852596934\n",
            "33  |  34  |  0.37758831337847326\n",
            "31  |  33  |  0.3781349067462559\n",
            "20  |  21  |  0.4025850335022401\n",
            "18  |  19  |  0.40969946948952696\n",
            "18  |  27  |  0.4139043943956139\n",
            "28  |  32  |  0.445607777759769\n",
            "13  |  14  |  0.46088226225430934\n",
            "27  |  28  |  0.4651571788116355\n",
            "21  |  24  |  0.4789662973529557\n",
            "12  |  13  |  0.4869308218745041\n",
            "25  |  26  |  0.4881862792008806\n",
            "21  |  22  |  0.4978664805196272\n",
            "15  |  20  |  0.5109055248282209\n",
            "23  |  25  |  0.532788759641192\n",
            "0  |  12  |  0.5372327001838682\n",
            "4  |  13  |  0.5381648417176657\n",
            "1  |  4  |  0.5410814070257821\n",
            "1  |  5  |  0.5456024991163438\n",
            "0  |  1  |  0.5741993625406511\n",
            "10  |  11  |  0.5746792366181329\n",
            "3  |  9  |  0.584217498026206\n",
            "15  |  16  |  0.5853708008604458\n",
            "0  |  8  |  0.5892975532038122\n",
            "0  |  2  |  0.6057981382490376\n",
            "13  |  15  |  0.6076176929031938\n",
            "7  |  10  |  0.6232665736264059\n",
            "0  |  4  |  0.6737283949901476\n",
            "3  |  4  |  0.6793916789466589\n",
            "5  |  6  |  0.6847532595760317\n",
            "5  |  6  |  0.7151080182741626\n",
            "5  |  6  |  0.7303308661942203\n",
            "0  |  2  |  0.7654280198320413\n",
            "0  |  1  |  0.7856633967304065\n",
            "5  |  6  |  0.8168719814022269\n",
            "0  |  1  |  0.8809683016842094\n",
            "4  |  5  |  0.923104095755186\n",
            "0  |  1  |  0.9796266974672342\n"
          ],
          "name": "stdout"
        },
        {
          "output_type": "display_data",
          "data": {
            "image/png": "[encoded data removed]",
            "text/plain": [
              "<Figure size 432x288 with 1 Axes>"
            ]
          },
          "metadata": {
            "tags": [],
            "needs_background": "light"
          }
        }
      ]
    },
    {
      "cell_type": "markdown",
      "metadata": {
        "id": "uAA0RSNd5H0Z"
      },
      "source": [
        "* For k=4, the algorithm decided to have one purple point in one cluster. "
      ]
    },
    {
      "cell_type": "markdown",
      "metadata": {
        "id": "P15FEbAlSrT9"
      },
      "source": [
        "* From the results above, we can observe the monotonic increase of the distance. \n",
        "* The method groups clusters in bottom-up fashion (agglomerative clustering). At each step it combines two clusters that contain the closest pair of elements, not yet belonging to the same cluster as each other.\n",
        "* The results produced have long thin clusters; i.e. nearby elements of the same cluster have small distances, but elements at opposite ends of a cluster may be much farther from each other than two elements of other clusters. This may lead to difficulties in defining classes that could subdivide the data."
      ]
    },
    {
      "cell_type": "markdown",
      "metadata": {
        "id": "X91KDmk4nnYJ"
      },
      "source": [
        "### Complete Linkage Algorithm"
      ]
    },
    {
      "cell_type": "code",
      "metadata": {
        "id": "zRAGwkLXnrsB"
      },
      "source": [
        "def complete_distance(clusters ,cluster_num):\n",
        "    print('first cluster | ','second cluster | ', 'distance')\n",
        "    while len(clusters) is not cluster_num:\n",
        "        # Clustering           (\n",
        "        closest_distance=clust_1=clust_2 = math.inf\n",
        "        # for every cluster (until second last element)\n",
        "        for cluster_id, cluster in enumerate(clusters[:len(clusters)]): \n",
        "            for cluster2_id, cluster2 in enumerate(clusters[(cluster_id+1):]):  \n",
        "                furthest_cluster_dist = -1\n",
        "                # Unlike single linkage, in complexte linkage algorithm, we try to minimize the max distance between clusters\n",
        "                # Going through each point in this prospective cluster as well\n",
        "                for point_id,point in enumerate(cluster): \n",
        "                    for point2_id, point2 in enumerate(cluster2):\n",
        "                        # making sure that our farthest distance is the maximum distance betweeen the clusters at hand\n",
        "                        if furthest_cluster_dist < distance.euclidean(point,point2): \n",
        "                            furthest_cluster_dist = distance.euclidean(point,point2)\n",
        "                # minimizing the above farthest dist\n",
        "                if furthest_cluster_dist < closest_distance:\n",
        "                    closest_distance = furthest_cluster_dist\n",
        "                    clust_1 = cluster_id\n",
        "                    clust_2 = cluster2_id+cluster_id+1\n",
        "               # extending by appending the contents to the list without flattening it out\n",
        "        print(clust_1,' | ',clust_2, ' | ',closest_distance)\n",
        "        clusters[clust_1].extend(clusters[clust_2]) \n",
        "        # don't need this index anymore, and we have just clustered once more\n",
        "        clusters.pop(clust_2) \n",
        "    return(clusters)"
      ],
      "execution_count": 22,
      "outputs": []
    },
    {
      "cell_type": "code",
      "metadata": {
        "id": "z-vOtFLfn6tj"
      },
      "source": [
        "# Hierarchical clustering\n",
        "def hierarchical(data, cluster_num, metric = 'complete'):\n",
        "    init_clusters=[]\n",
        "    for index, row in data.iterrows():\n",
        "        init_clusters.append([[row['x'], row['y']]])\n",
        "    if metric is 'complete':\n",
        "        return complete_distance(init_clusters, cluster_num)"
      ],
      "execution_count": 24,
      "outputs": []
    },
    {
      "cell_type": "code",
      "metadata": {
        "colab": {
          "base_uri": "https://localhost:8080/",
          "height": 1000
        },
        "id": "juPMbhGNpKdp",
        "outputId": "31c2567a-c07e-45c9-fbbf-ef1251452966"
      },
      "source": [
        "# For k=3\n",
        "clusters = hierarchical(df,3)\n",
        "colors = ['green', 'purple', 'red']\n",
        "for cluster_index, cluster in enumerate(clusters):\n",
        "    for point_index, point in enumerate(cluster):\n",
        "        plt.plot([point[0]], [point[1]], marker='o', markersize=3, color=colors[cluster_index])"
      ],
      "execution_count": 25,
      "outputs": [
        {
          "output_type": "stream",
          "text": [
            "first cluster |  second cluster |  distance\n",
            "52  |  82  |  0.020905188351220523\n",
            "55  |  73  |  0.05421475813835223\n",
            "77  |  93  |  0.059082417858446014\n",
            "57  |  94  |  0.06269623274168862\n",
            "59  |  72  |  0.0729949621549323\n",
            "54  |  65  |  0.08752271076697725\n",
            "76  |  79  |  0.08889486486856268\n",
            "76  |  92  |  0.09989231001433466\n",
            "60  |  78  |  0.10694767692661643\n",
            "56  |  58  |  0.11503641597337791\n",
            "80  |  86  |  0.12028533160780673\n",
            "26  |  47  |  0.12849902295348342\n",
            "36  |  46  |  0.1463166747161786\n",
            "63  |  75  |  0.1499040509792851\n",
            "56  |  82  |  0.14990598954011114\n",
            "61  |  70  |  0.15135927358440904\n",
            "60  |  83  |  0.1541678890041632\n",
            "49  |  81  |  0.16309363322950393\n",
            "41  |  42  |  0.17227460304989806\n",
            "49  |  50  |  0.18087588921688835\n",
            "62  |  69  |  0.1814888404282755\n",
            "53  |  64  |  0.19155816296884837\n",
            "1  |  12  |  0.2024765654020238\n",
            "67  |  75  |  0.20365677057245088\n",
            "38  |  45  |  0.20710485580980503\n",
            "31  |  35  |  0.21379014126006898\n",
            "62  |  70  |  0.22211885309446458\n",
            "34  |  38  |  0.22822771632735545\n",
            "5  |  23  |  0.23651786118811416\n",
            "52  |  67  |  0.24000300602284122\n",
            "49  |  50  |  0.24196327407274007\n",
            "20  |  21  |  0.24807001877695742\n",
            "55  |  59  |  0.2500128758684241\n",
            "57  |  64  |  0.25416733798818425\n",
            "13  |  16  |  0.29375502486543104\n",
            "31  |  39  |  0.2942132784223033\n",
            "12  |  16  |  0.33541749138200894\n",
            "20  |  28  |  0.343067019691488\n",
            "48  |  55  |  0.352707710859856\n",
            "38  |  50  |  0.36804274547938004\n",
            "39  |  58  |  0.37523621813465746\n",
            "21  |  27  |  0.3779961618852758\n",
            "39  |  57  |  0.38127802519945975\n",
            "23  |  24  |  0.4025850335022401\n",
            "3  |  5  |  0.40350026051168786\n",
            "42  |  51  |  0.40428705049753944\n",
            "36  |  48  |  0.40647648554375226\n",
            "41  |  47  |  0.4130076833425737\n",
            "25  |  29  |  0.43286952826457986\n",
            "13  |  15  |  0.46088226225430934\n",
            "26  |  29  |  0.4789662973529557\n",
            "24  |  30  |  0.48013137722919125\n",
            "1  |  14  |  0.4926677418717406\n",
            "4  |  16  |  0.5381648417176657\n",
            "6  |  15  |  0.5801669880043159\n",
            "5  |  14  |  0.584217498026206\n",
            "26  |  42  |  0.6076176929031938\n",
            "31  |  34  |  0.6380360447498243\n",
            "33  |  35  |  0.6466994174266741\n",
            "23  |  24  |  0.6660709200535632\n",
            "7  |  9  |  0.6793916789466589\n",
            "14  |  20  |  0.681448464669193\n",
            "24  |  29  |  0.6896439424804655\n",
            "27  |  30  |  0.7110181975870938\n",
            "17  |  18  |  0.7151080182741626\n",
            "11  |  12  |  0.7404183853459407\n",
            "14  |  17  |  0.8225328866373669\n",
            "12  |  17  |  0.850416998712984\n",
            "20  |  22  |  0.9115698040742681\n",
            "24  |  29  |  0.9217316809679488\n",
            "1  |  6  |  0.9745237058676408\n",
            "0  |  3  |  0.9755227106787417\n",
            "19  |  23  |  1.0187148268774728\n",
            "2  |  8  |  1.0251235784221142\n",
            "22  |  23  |  1.0259500884545987\n",
            "3  |  6  |  1.1505642461544685\n",
            "19  |  22  |  1.176058817279136\n",
            "5  |  6  |  1.2411227962812543\n",
            "16  |  17  |  1.329518027745393\n",
            "8  |  9  |  1.432898681205339\n",
            "9  |  10  |  1.5005335631367929\n",
            "15  |  17  |  1.5415930926804262\n",
            "13  |  16  |  1.5714727065399512\n",
            "1  |  6  |  1.6245745073122992\n",
            "7  |  9  |  1.6718778805729202\n",
            "0  |  4  |  1.6828164047839562\n",
            "11  |  13  |  1.7799770653016855\n",
            "1  |  2  |  2.015840683340963\n",
            "6  |  7  |  2.1015906095146124\n",
            "0  |  3  |  2.5642407174444446\n",
            "3  |  4  |  2.668151597064155\n",
            "5  |  8  |  2.7015866107991062\n",
            "1  |  2  |  2.829700588967851\n",
            "5  |  6  |  2.8797345088914015\n",
            "4  |  5  |  3.6955536329011656\n",
            "2  |  3  |  3.83057381939051\n",
            "0  |  1  |  4.099033897165254\n"
          ],
          "name": "stdout"
        },
        {
          "output_type": "display_data",
          "data": {
            "image/png": "[encoded data removed]",
            "text/plain": [
              "<Figure size 432x288 with 1 Axes>"
            ]
          },
          "metadata": {
            "tags": [],
            "needs_background": "light"
          }
        }
      ]
    },
    {
      "cell_type": "markdown",
      "metadata": {
        "id": "KWPoOpxk4JhX"
      },
      "source": [
        "* For k=3, the results show the colored clusters above. \n",
        "* Comparing to single linkage algorithm for k=3, the results here have no one sinlge dot for the same dataset and the same number of clusters, instead groups were joined together in more scattered dots."
      ]
    },
    {
      "cell_type": "code",
      "metadata": {
        "colab": {
          "base_uri": "https://localhost:8080/",
          "height": 1000
        },
        "id": "X7IaOFxPoARo",
        "outputId": "d5ed6637-1d3b-4a65-9f5f-6d455c307519"
      },
      "source": [
        "# For k=4\n",
        "clusters = hierarchical(df,4)\n",
        "colors = ['green', 'purple', 'teal', 'red']\n",
        "for cluster_index, cluster in enumerate(clusters):\n",
        "    for point_index, point in enumerate(cluster):\n",
        "        plt.plot([point[0]], [point[1]], marker='o', markersize=3, color=colors[cluster_index])"
      ],
      "execution_count": 26,
      "outputs": [
        {
          "output_type": "stream",
          "text": [
            "first cluster |  second cluster |  distance\n",
            "52  |  82  |  0.020905188351220523\n",
            "55  |  73  |  0.05421475813835223\n",
            "77  |  93  |  0.059082417858446014\n",
            "57  |  94  |  0.06269623274168862\n",
            "59  |  72  |  0.0729949621549323\n",
            "54  |  65  |  0.08752271076697725\n",
            "76  |  79  |  0.08889486486856268\n",
            "76  |  92  |  0.09989231001433466\n",
            "60  |  78  |  0.10694767692661643\n",
            "56  |  58  |  0.11503641597337791\n",
            "80  |  86  |  0.12028533160780673\n",
            "26  |  47  |  0.12849902295348342\n",
            "36  |  46  |  0.1463166747161786\n",
            "63  |  75  |  0.1499040509792851\n",
            "56  |  82  |  0.14990598954011114\n",
            "61  |  70  |  0.15135927358440904\n",
            "60  |  83  |  0.1541678890041632\n",
            "49  |  81  |  0.16309363322950393\n",
            "41  |  42  |  0.17227460304989806\n",
            "49  |  50  |  0.18087588921688835\n",
            "62  |  69  |  0.1814888404282755\n",
            "53  |  64  |  0.19155816296884837\n",
            "1  |  12  |  0.2024765654020238\n",
            "67  |  75  |  0.20365677057245088\n",
            "38  |  45  |  0.20710485580980503\n",
            "31  |  35  |  0.21379014126006898\n",
            "62  |  70  |  0.22211885309446458\n",
            "34  |  38  |  0.22822771632735545\n",
            "5  |  23  |  0.23651786118811416\n",
            "52  |  67  |  0.24000300602284122\n",
            "49  |  50  |  0.24196327407274007\n",
            "20  |  21  |  0.24807001877695742\n",
            "55  |  59  |  0.2500128758684241\n",
            "57  |  64  |  0.25416733798818425\n",
            "13  |  16  |  0.29375502486543104\n",
            "31  |  39  |  0.2942132784223033\n",
            "12  |  16  |  0.33541749138200894\n",
            "20  |  28  |  0.343067019691488\n",
            "48  |  55  |  0.352707710859856\n",
            "38  |  50  |  0.36804274547938004\n",
            "39  |  58  |  0.37523621813465746\n",
            "21  |  27  |  0.3779961618852758\n",
            "39  |  57  |  0.38127802519945975\n",
            "23  |  24  |  0.4025850335022401\n",
            "3  |  5  |  0.40350026051168786\n",
            "42  |  51  |  0.40428705049753944\n",
            "36  |  48  |  0.40647648554375226\n",
            "41  |  47  |  0.4130076833425737\n",
            "25  |  29  |  0.43286952826457986\n",
            "13  |  15  |  0.46088226225430934\n",
            "26  |  29  |  0.4789662973529557\n",
            "24  |  30  |  0.48013137722919125\n",
            "1  |  14  |  0.4926677418717406\n",
            "4  |  16  |  0.5381648417176657\n",
            "6  |  15  |  0.5801669880043159\n",
            "5  |  14  |  0.584217498026206\n",
            "26  |  42  |  0.6076176929031938\n",
            "31  |  34  |  0.6380360447498243\n",
            "33  |  35  |  0.6466994174266741\n",
            "23  |  24  |  0.6660709200535632\n",
            "7  |  9  |  0.6793916789466589\n",
            "14  |  20  |  0.681448464669193\n",
            "24  |  29  |  0.6896439424804655\n",
            "27  |  30  |  0.7110181975870938\n",
            "17  |  18  |  0.7151080182741626\n",
            "11  |  12  |  0.7404183853459407\n",
            "14  |  17  |  0.8225328866373669\n",
            "12  |  17  |  0.850416998712984\n",
            "20  |  22  |  0.9115698040742681\n",
            "24  |  29  |  0.9217316809679488\n",
            "1  |  6  |  0.9745237058676408\n",
            "0  |  3  |  0.9755227106787417\n",
            "19  |  23  |  1.0187148268774728\n",
            "2  |  8  |  1.0251235784221142\n",
            "22  |  23  |  1.0259500884545987\n",
            "3  |  6  |  1.1505642461544685\n",
            "19  |  22  |  1.176058817279136\n",
            "5  |  6  |  1.2411227962812543\n",
            "16  |  17  |  1.329518027745393\n",
            "8  |  9  |  1.432898681205339\n",
            "9  |  10  |  1.5005335631367929\n",
            "15  |  17  |  1.5415930926804262\n",
            "13  |  16  |  1.5714727065399512\n",
            "1  |  6  |  1.6245745073122992\n",
            "7  |  9  |  1.6718778805729202\n",
            "0  |  4  |  1.6828164047839562\n",
            "11  |  13  |  1.7799770653016855\n",
            "1  |  2  |  2.015840683340963\n",
            "6  |  7  |  2.1015906095146124\n",
            "0  |  3  |  2.5642407174444446\n",
            "3  |  4  |  2.668151597064155\n",
            "5  |  8  |  2.7015866107991062\n",
            "1  |  2  |  2.829700588967851\n",
            "5  |  6  |  2.8797345088914015\n",
            "4  |  5  |  3.6955536329011656\n",
            "2  |  3  |  3.83057381939051\n"
          ],
          "name": "stdout"
        },
        {
          "output_type": "display_data",
          "data": {
            "image/png": "[encoded data removed]",
            "text/plain": [
              "<Figure size 432x288 with 1 Axes>"
            ]
          },
          "metadata": {
            "tags": [],
            "needs_background": "light"
          }
        }
      ]
    },
    {
      "cell_type": "markdown",
      "metadata": {
        "id": "v18LTjgz5ZZ_"
      },
      "source": [
        "* For k=4, the complete linkage cluster, grouped the data differently comparing to single linkage with the same number of clusters. Instead of having one point to be considered as one cluster, the algorithm here decided to have groups of more points in one cluster and take a division in a more closely packed points,purple and green points."
      ]
    },
    {
      "cell_type": "markdown",
      "metadata": {
        "id": "b2tI9ehKrYiY"
      },
      "source": [
        "* The results show increase in the distance.\n",
        "* Complete Like linkage clustering, this method is also agglomerative hierarchical clustering. \n",
        "* In contrast, for complete linkage, the distance is between the observations that are furthest apart.\n",
        "* This complete-link merge criterion is non-local; the entire structure of the clustering can influence merge decisions. This results favor compact clusters with small diameters over long, straggly clusters. That is why the results in here are smaller or tighter clusters comparing to single-linkage algorithm."
      ]
    },
    {
      "cell_type": "markdown",
      "metadata": {
        "id": "jgOtJvLCraud"
      },
      "source": [
        "#References\n",
        "1. https://tarunsunkaraneni.github.io/\n",
        "2. https://scikit-learn.org/stable/auto_examples/cluster/plot_cluster_comparison.html\n",
        "3. Nielsen, Frank. \"Hierarchical clustering.\" Introduction to HPC with MPI for Data Science. Springer, Cham, 2016. 195-211.\n",
        "4. Moore, Andrew. \"K-means and Hierarchical Clustering.\" (2001).\n",
        "5. Camiz, S., and V. Pillar. \"Comparison of single and complete linkage clustering with the hierarchical factor classification of variables.\" Community Ecology 8.1 (2007): 25-30.                     \n",
        "6. https://towardsdatascience.com/introduction-hierarchical-clustering-d3066c6b560e\n",
        "7. Kodinariya, Trupti M., and Prashant R. Makwana. \"Review on determining number of Cluster in K-Means Clustering.\" International Journal 1.6 (2013): 90-95.\n",
        "8. https://www.kaggle.com/barelydedicated/hierarchical-clustering-single-link\n",
        "9. https://www.kaggle.com/barelydedicated/hierarchical-clustering-complete-link\n",
        "10. De Hoon, Michiel JL, et al. \"Open source clustering software.\" Bioinformatics 20.9 (2004): 1453-1454.\n",
        "\n",
        "\n"
      ]
    }
  ]
}