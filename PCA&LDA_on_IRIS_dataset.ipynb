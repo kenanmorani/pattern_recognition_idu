{
  "nbformat": 4,
  "nbformat_minor": 0,
  "metadata": {
    "colab": {
      "name": "PCA&LDA_on_IRIS_dataset",
      "provenance": [],
      "collapsed_sections": [],
      "toc_visible": true,
      "include_colab_link": true
    },
    "kernelspec": {
      "display_name": "Python 3",
      "name": "python3"
    }
  },
  "cells": [
    {
      "cell_type": "markdown",
      "metadata": {
        "id": "view-in-github",
        "colab_type": "text"
      },
      "source": [
        "<a href=\"https://colab.research.google.com/github/kenanmorani/pattern_recognition_idu/blob/main/PCA%26LDA_on_IRIS_dataset.ipynb\" target=\"_parent\"><img src=\"https://colab.research.google.com/assets/colab-badge.svg\" alt=\"Open In Colab\"/></a>"
      ]
    },
    {
      "cell_type": "markdown",
      "metadata": {
        "id": "nTXE8C66V2L7"
      },
      "source": [
        "* The code builds two classes; a Principle Component Analysis (PCA) class and an Linear Discriminant Analysis (LDA) class aiming at demontionality reduction.\n",
        "* The code applies the two mdethods on the popular 'iris' dataset.\n"
      ]
    },
    {
      "cell_type": "code",
      "metadata": {
        "id": "s__7Mm6vStLb"
      },
      "source": [
        "import numpy as np\n",
        "from sklearn import datasets\n",
        "import matplotlib.pyplot as plt\n",
        "import numpy as np"
      ],
      "execution_count": 1,
      "outputs": []
    },
    {
      "cell_type": "markdown",
      "metadata": {
        "id": "lzHEtuovVjMm"
      },
      "source": [
        "# Loading the IRIS dataset"
      ]
    },
    {
      "cell_type": "code",
      "metadata": {
        "id": "tKlEEJZhS0Q6"
      },
      "source": [
        "iris = datasets.load_iris()\n",
        "X = iris.data\n",
        "y = iris.target\n",
        "target_names = iris.target_names"
      ],
      "execution_count": 2,
      "outputs": []
    },
    {
      "cell_type": "markdown",
      "metadata": {
        "id": "Cg_ihbhQTTTX"
      },
      "source": [
        "# Bulding PCA class"
      ]
    },
    {
      "cell_type": "code",
      "metadata": {
        "id": "5twaWi_hSkL9"
      },
      "source": [
        "class PCA:\n",
        "\n",
        "    def __init__(self, n_components):\n",
        "        self.n_components = n_components\n",
        "        self.components = None\n",
        "        self.mean = None\n",
        "\n",
        "    def fit(self, X):\n",
        "        # Mean centering\n",
        "        self.mean = np.mean(X, axis=0)\n",
        "        X = X - self.mean\n",
        "        # covariance\n",
        "        cov = np.cov(X.T)\n",
        "        # eigenvalues and eigenvectors\n",
        "        eigenvalues, eigenvectors = np.linalg.eig(cov)\n",
        "        # sorting eigenvectors\n",
        "        eigenvectors = eigenvectors.T\n",
        "        idxs = np.argsort(eigenvalues)[::-1]\n",
        "        eigenvalues = eigenvalues[idxs]\n",
        "        eigenvectors = eigenvectors[idxs]\n",
        "        # storing the first n eigenvectors\n",
        "        self.components = eigenvectors[0:self.n_components]\n",
        "\n",
        "    def transform(self, X):\n",
        "        # projecting the data\n",
        "        X = X - self.mean\n",
        "        return np.dot(X, self.components.T)"
      ],
      "execution_count": 3,
      "outputs": []
    },
    {
      "cell_type": "markdown",
      "metadata": {
        "id": "Re73aQjlTY7f"
      },
      "source": [
        "# Applying PCA to IRIS dataset"
      ]
    },
    {
      "cell_type": "code",
      "metadata": {
        "id": "PGn1t6vgS4Z3"
      },
      "source": [
        "# Project the data onto the 2 primary principal components\n",
        "pca = PCA(2)\n",
        "pca.fit(X)\n",
        "X_r1 = pca.transform(X)"
      ],
      "execution_count": 4,
      "outputs": []
    },
    {
      "cell_type": "code",
      "metadata": {
        "id": "pOUOH8E1S7XA",
        "colab": {
          "base_uri": "https://localhost:8080/"
        },
        "outputId": "0760a6ac-b0c4-4cce-d21a-db3f679b0a3b"
      },
      "source": [
        "print('Shape of X:', X.shape)\n",
        "print('Shape of transformed X:', X_r1.shape)"
      ],
      "execution_count": 5,
      "outputs": [
        {
          "output_type": "stream",
          "text": [
            "Shape of X: (150, 4)\n",
            "Shape of transformed X: (150, 2)\n"
          ],
          "name": "stdout"
        }
      ]
    },
    {
      "cell_type": "code",
      "metadata": {
        "id": "qJrZsjQht2ux",
        "colab": {
          "base_uri": "https://localhost:8080/",
          "height": 295
        },
        "outputId": "d6b9ad4e-4014-4728-a51c-16fecf92508b"
      },
      "source": [
        "# Plotting the results of applying PCA on IRIS dataset\n",
        "plt.figure()\n",
        "colors = ['navy', 'turquoise', 'darkorange']\n",
        "lw = 2\n",
        "\n",
        "for color, i, target_name in zip(colors, [0, 1, 2], target_names):\n",
        "    plt.scatter(X_r1[y == i, 0], X_r1[y == i, 1], color=color, alpha=.8, lw=lw,\n",
        "                label=target_name)\n",
        "plt.legend(loc='best', shadow=False, scatterpoints=1)\n",
        "plt.title('Principle Component Analysis on IRIS dataset')\n",
        "plt.xlabel(\"PCA1\")\n",
        "plt.ylabel(\"PCA2\")\n",
        "plt.show()"
      ],
      "execution_count": 6,
      "outputs": [
        {
          "output_type": "display_data",
          "data": {
            "image/png": "[encoded data removed]",
            "text/plain": [
              "<Figure size 432x288 with 1 Axes>"
            ]
          },
          "metadata": {
            "tags": [],
            "needs_background": "light"
          }
        }
      ]
    },
    {
      "cell_type": "markdown",
      "metadata": {
        "id": "7tpbqUL7UKsL"
      },
      "source": [
        "# Building LDA class"
      ]
    },
    {
      "cell_type": "code",
      "metadata": {
        "id": "jK-hTyHjUolL"
      },
      "source": [
        "class LDA:\n",
        "\n",
        "    def __init__(self, n_components):\n",
        "        self.n_components = n_components\n",
        "        self.linear_discriminants = None\n",
        "\n",
        "    def fit(self, X, y):\n",
        "        n_features = X.shape[1]\n",
        "        class_labels = np.unique(y)\n",
        "\n",
        "        mean_overall = np.mean(X, axis=0)\n",
        "        SW = np.zeros((n_features, n_features))\n",
        "        SB = np.zeros((n_features, n_features))\n",
        "        for c in class_labels:\n",
        "            X_c = X[y == c]\n",
        "            mean_c = np.mean(X_c, axis=0)\n",
        "            # (4, n_c) * (n_c, 4) = (4,4) -> transpose\n",
        "            SW += (X_c - mean_c).T.dot((X_c - mean_c))\n",
        "\n",
        "            # (4, 1) * (1, 4) = (4,4) -> reshape\n",
        "            n_c = X_c.shape[0]\n",
        "            mean_diff = (mean_c - mean_overall).reshape(n_features, 1)\n",
        "            SB += n_c * (mean_diff).dot(mean_diff.T)\n",
        "\n",
        "        # Determining SW^-1 * SB\n",
        "        A = np.linalg.inv(SW).dot(SB)\n",
        "        # Geting eigenvalues and eigenvectors of SW^-1 * SB\n",
        "        eigenvalues, eigenvectors = np.linalg.eig(A)\n",
        "        # sorting eigenvalues\n",
        "        eigenvectors = eigenvectors.T\n",
        "        idxs = np.argsort(abs(eigenvalues))[::-1]\n",
        "        eigenvalues = eigenvalues[idxs]\n",
        "        eigenvectors = eigenvectors[idxs]\n",
        "        # storing first n eigenvectors\n",
        "        self.linear_discriminants = eigenvectors[0:self.n_components]\n",
        "\n",
        "    def transform(self, X):\n",
        "        # projecting the data\n",
        "        return np.dot(X, self.linear_discriminants.T)"
      ],
      "execution_count": 7,
      "outputs": []
    },
    {
      "cell_type": "markdown",
      "metadata": {
        "id": "eUThh8xdUzAt"
      },
      "source": [
        "# Applying LDA to IRIS Dataset"
      ]
    },
    {
      "cell_type": "code",
      "metadata": {
        "id": "kx2KxwEQUvIr"
      },
      "source": [
        "# Project the data onto the 2 primary linear discriminants\n",
        "lda = LDA(2)\n",
        "lda.fit(X, y)\n",
        "X_r2 = lda.transform(X)"
      ],
      "execution_count": 8,
      "outputs": []
    },
    {
      "cell_type": "code",
      "metadata": {
        "colab": {
          "base_uri": "https://localhost:8080/"
        },
        "id": "LjPDNB3UCO3U",
        "outputId": "cce45d02-31df-45e8-ca26-896d734f2276"
      },
      "source": [
        "print('Shape of X:', X.shape)\n",
        "print('Shape of transformed X:', X_r2.shape)"
      ],
      "execution_count": 9,
      "outputs": [
        {
          "output_type": "stream",
          "text": [
            "Shape of X: (150, 4)\n",
            "Shape of transformed X: (150, 2)\n"
          ],
          "name": "stdout"
        }
      ]
    },
    {
      "cell_type": "code",
      "metadata": {
        "id": "GBM_6pf8ovm9",
        "colab": {
          "base_uri": "https://localhost:8080/",
          "height": 295
        },
        "outputId": "8844ad47-c19c-46df-fd38-f15be26c2869"
      },
      "source": [
        "# Plotting the results of applying LDA on IRIS dataset\n",
        "plt.figure()\n",
        "colors = ['navy', 'turquoise', 'darkorange']\n",
        "lw = 2\n",
        "for color, i, target_name in zip(colors, [0, 1, 2], target_names):\n",
        "    plt.scatter(X_r2[y == i, 0], X_r2[y == i, 1], color=color, alpha=.8, lw=lw,\n",
        "                label=target_name)\n",
        "plt.legend(loc='best', shadow=False, scatterpoints=1)\n",
        "plt.title('Linear Discriminant Analysis on IRIS dataset')\n",
        "plt.xlabel(\"LDA1\")\n",
        "plt.ylabel(\"LDA2\")\n",
        "plt.show()"
      ],
      "execution_count": 10,
      "outputs": [
        {
          "output_type": "display_data",
          "data": {
            "image/png": "[encoded data removed]",
            "text/plain": [
              "<Figure size 432x288 with 1 Axes>"
            ]
          },
          "metadata": {
            "tags": [],
            "needs_background": "light"
          }
        }
      ]
    }
  ]
}